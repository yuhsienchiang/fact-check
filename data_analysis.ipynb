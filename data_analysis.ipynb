{
 "cells": [
  {
   "attachments": {},
   "cell_type": "markdown",
   "metadata": {},
   "source": [
    "### Import Library"
   ]
  },
  {
   "cell_type": "code",
   "execution_count": 2,
   "metadata": {},
   "outputs": [],
   "source": [
    "import json\n",
    "import matplotlib.pyplot as plt\n",
    "import numpy as np"
   ]
  },
  {
   "cell_type": "code",
   "execution_count": 3,
   "metadata": {},
   "outputs": [],
   "source": [
    "train_claims_data = json.load(open(\"project-data/train-claims.json\"))\n",
    "dev_claims_data = json.load(open(\"project-data/dev-claims.json\"))\n",
    "evidence_data = json.load(open(\"project-data/evidence.json\"))\n",
    "\n",
    "label_tags = [\"SUPPORTS\", \"REFUTES\", \"NOT_ENOUGH_INFO\", \"DISPUTED\"]"
   ]
  },
  {
   "cell_type": "code",
   "execution_count": 4,
   "metadata": {},
   "outputs": [],
   "source": [
    "train_claims_text = {key: value[\"claim_text\"] for (key, value) in train_claims_data.items()}\n",
    "train_evidence = {key: value[\"evidences\"] for (key, value) in train_claims_data.items()}\n",
    "train_label = {key: value[\"claim_label\"] for (key, value) in train_claims_data.items()}\n",
    "\n",
    "dev_claims_text = {key: value[\"claim_text\"] for (key, value) in dev_claims_data.items()}\n",
    "dev_evidence = {key: value[\"evidences\"] for (key, value) in dev_claims_data.items()}\n",
    "dev_label = {key: value[\"claim_label\"] for (key, value) in dev_claims_data.items()}"
   ]
  },
  {
   "cell_type": "code",
   "execution_count": 5,
   "metadata": {},
   "outputs": [
    {
     "name": "stdout",
     "output_type": "stream",
     "text": [
      "Training set size : 1228\n",
      "Evidence data size: 1208827\n"
     ]
    }
   ],
   "source": [
    "print(f\"Training set size : {len(train_claims_data)}\")\n",
    "assert(len(train_claims_data) == len(train_claims_text))\n",
    "assert(len(train_claims_data) == len(train_label))\n",
    "print(f\"Evidence data size: {len(evidence_data)}\")"
   ]
  },
  {
   "cell_type": "code",
   "execution_count": 6,
   "metadata": {},
   "outputs": [],
   "source": [
    "cata_0_instant = [key for (key, value) in train_label.items() if value == label_tags[0]]\n",
    "cata_1_instant = [key for (key, value) in train_label.items() if value == label_tags[1]]\n",
    "cata_2_instant = [key for (key, value) in train_label.items() if value == label_tags[2]]\n",
    "cata_3_instant = [key for (key, value) in train_label.items() if value == label_tags[3]]"
   ]
  },
  {
   "cell_type": "code",
   "execution_count": 7,
   "metadata": {},
   "outputs": [
    {
     "name": "stdout",
     "output_type": "stream",
     "text": [
      "Size of [     SUPPORTS     ] instants: 519\n",
      "Size of [     REFUTES      ] instants: 199\n",
      "Size of [ NOT_ENOUGH_INFO  ] instants: 386\n",
      "Size of [     DISPUTED     ] instants: 124\n"
     ]
    }
   ],
   "source": [
    "print(f\"Size of [{label_tags[0]: ^18}] instants: {len(cata_0_instant)}\")\n",
    "print(f\"Size of [{label_tags[1]: ^18}] instants: {len(cata_1_instant)}\")\n",
    "print(f\"Size of [{label_tags[2]: ^18}] instants: {len(cata_2_instant)}\")\n",
    "print(f\"Size of [{label_tags[3]: ^18}] instants: {len(cata_3_instant)}\")"
   ]
  },
  {
   "cell_type": "code",
   "execution_count": 12,
   "metadata": {},
   "outputs": [
    {
     "data": {
      "image/png": "[encoded data removed]",
      "text/plain": [
       "<Figure size 640x480 with 1 Axes>"
      ]
     },
     "metadata": {},
     "output_type": "display_data"
    }
   ],
   "source": [
    "x_pos = np.arange(len(label_tags))\n",
    "instance_num = [len(cata_0_instant), len(cata_1_instant), len(cata_2_instant), len(cata_3_instant)]\n",
    "\n",
    "plt.bar(x_pos, instance_num, align='center', alpha=0.5)\n",
    "plt.xticks(x_pos, label_tags)\n",
    "plt.ylabel('Instance Number')\n",
    "plt.title('Instance type distribution')\n",
    "\n",
    "plt.show()"
   ]
  },
  {
   "cell_type": "code",
   "execution_count": null,
   "metadata": {},
   "outputs": [],
   "source": []
  }
 ],
 "metadata": {
  "kernelspec": {
   "display_name": "nlp_env",
   "language": "python",
   "name": "python3"
  },
  "language_info": {
   "codemirror_mode": {
    "name": "ipython",
    "version": 3
   },
   "file_extension": ".py",
   "mimetype": "text/x-python",
   "name": "python",
   "nbconvert_exporter": "python",
   "pygments_lexer": "ipython3",
   "version": "3.8.16"
  },
  "orig_nbformat": 4
 },
 "nbformat": 4,
 "nbformat_minor": 2
}
