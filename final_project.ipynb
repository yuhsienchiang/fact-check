{
 "cells": [
  {
   "attachments": {},
   "cell_type": "markdown",
   "metadata": {},
   "source": [
    "## Import Libraries"
   ]
  },
  {
   "cell_type": "code",
   "execution_count": null,
   "metadata": {
    "tags": []
   },
   "outputs": [],
   "source": [
    "import json\n",
    "import torch\n",
    "from transformers import BertTokenizer\n",
    "\n",
    "from model.dpr.biencoder_dataset import BiEncoderDataset\n",
    "from model.dpr.evidence_dataset import EvidenceDataset\n",
    "from model.dpr.biencoder import BiEncoder\n",
    "from model.dpr.encoder.bert_encoder import BertEncoder\n",
    "from model.dpr.biencoder_trainer import BiEncoderTrainer\n",
    "\n",
    "from model.classifier.bert_classifier import BertClassifier\n",
    "from model.classifier.bert_classifier_dataset import BertClassifierDataset\n",
    "from model.classifier.bert_classifier_trainer import BertClassifierTrainer"
   ]
  },
  {
   "attachments": {},
   "cell_type": "markdown",
   "metadata": {},
   "source": [
    "## Setup"
   ]
  },
  {
   "attachments": {},
   "cell_type": "markdown",
   "metadata": {},
   "source": [
    "### Check Resource"
   ]
  },
  {
   "cell_type": "code",
   "execution_count": null,
   "metadata": {
    "tags": []
   },
   "outputs": [],
   "source": [
    "torch.cuda.is_available()"
   ]
  },
  {
   "attachments": {},
   "cell_type": "markdown",
   "metadata": {},
   "source": [
    "### Create Tokenizer"
   ]
  },
  {
   "cell_type": "code",
   "execution_count": null,
   "metadata": {
    "tags": []
   },
   "outputs": [],
   "source": [
    "bert_tokenizer = BertTokenizer.from_pretrained(\"bert-base-uncased\")"
   ]
  },
  {
   "attachments": {},
   "cell_type": "markdown",
   "metadata": {
    "tags": []
   },
   "source": [
    "## Information Retriever"
   ]
  },
  {
   "attachments": {},
   "cell_type": "markdown",
   "metadata": {},
   "source": [
    "### Load Data"
   ]
  },
  {
   "cell_type": "code",
   "execution_count": null,
   "metadata": {
    "tags": []
   },
   "outputs": [],
   "source": [
    "# Training dataset\n",
    "biencoder_train_dataset = BiEncoderDataset(claim_file_path=\"./data/train-claims.json\",\n",
    "                                           data_type=\"train\",\n",
    "                                           evidence_file_path=\"./data/evidence.json\",\n",
    "                                           tokenizer=bert_tokenizer,\n",
    "                                           lower_case=False,\n",
    "                                           max_padding_length=128,\n",
    "                                           evidence_num=6,\n",
    "                                           rand_seed=1)\n",
    "\n",
    "# Testing dataset\n",
    "biencoder_test_dataset = BiEncoderDataset(claim_file_path=\"./data/test-claims-unlabelled.json\",\n",
    "                                          data_type=\"predict\",\n",
    "                                          evidence_file_path=\"./data/evidence.json\",\n",
    "                                          tokenizer=bert_tokenizer,\n",
    "                                          lower_case=False,\n",
    "                                          max_padding_length=128,\n",
    "                                          evidence_num=0,\n",
    "                                          rand_seed=1)\n",
    "\n",
    "#Evidence dataset\n",
    "evidence_dataset = EvidenceDataset(evidence_file_path=\"./data/evidence.json\",\n",
    "                                   tokenizer=bert_tokenizer,\n",
    "                                   lower_case=False,\n",
    "                                   max_padding_length=128,\n",
    "                                   rand_seed=1)"
   ]
  },
  {
   "attachments": {},
   "cell_type": "markdown",
   "metadata": {},
   "source": [
    "### Create BiEncoder Model"
   ]
  },
  {
   "cell_type": "code",
   "execution_count": null,
   "metadata": {
    "tags": []
   },
   "outputs": [],
   "source": [
    "query_encoder = BertEncoder(add_pooling_layer=True)\n",
    "\n",
    "biencoder = BiEncoder(query_model=query_encoder)"
   ]
  },
  {
   "attachments": {},
   "cell_type": "markdown",
   "metadata": {},
   "source": [
    "### Train BiEncoder Model"
   ]
  },
  {
   "cell_type": "code",
   "execution_count": null,
   "metadata": {
    "tags": []
   },
   "outputs": [],
   "source": [
    "biencoder_trainer = BiEncoderTrainer(model=biencoder,\n",
    "                                     batch_size=16)"
   ]
  },
  {
   "cell_type": "code",
   "execution_count": null,
   "metadata": {
    "tags": []
   },
   "outputs": [],
   "source": [
    "biencoder_history = biencoder_trainer.train(train_data=biencoder_train_dataset,\n",
    "                                            shuffle=True,\n",
    "                                            max_epoch=5,\n",
    "                                            loss_func_type=\"nll_loss\",\n",
    "                                            similarity_func_type=\"dot\",\n",
    "                                            optimizer_type=\"adam\",\n",
    "                                            learning_rate=0.0001)"
   ]
  },
  {
   "attachments": {},
   "cell_type": "markdown",
   "metadata": {
    "tags": []
   },
   "source": [
    "### Retrieve Information"
   ]
  },
  {
   "cell_type": "code",
   "execution_count": null,
   "metadata": {
    "tags": []
   },
   "outputs": [],
   "source": [
    "# Encode\n",
    "evid_embed_data = biencoder.get_evidence_embed(evidence_dataset=evidence_dataset,\n",
    "                                               batch_size=1000,\n",
    "                                               output_file_path=\"./data/output/embed-evidence.json\")"
   ]
  },
  {
   "cell_type": "code",
   "execution_count": null,
   "metadata": {
    "tags": []
   },
   "outputs": [],
   "source": [
    "# Read from file\n",
    "raw_embed_evid = json.load(open(\"./data/output/embed-evidence.json\"))\n",
    "\n",
    "evid_tags = []\n",
    "evid_embeds = []\n",
    "for tag, embed in raw_embed_evid.items():\n",
    "    evid_embeds.append(embed)\n",
    "    evid_tags.append(tag)\n",
    "\n",
    "embed_evid_data = {\"tag\": evid_tags, \"evidence\": evid_embeds}"
   ]
  },
  {
   "cell_type": "code",
   "execution_count": null,
   "metadata": {
    "tags": []
   },
   "outputs": [],
   "source": [
    "retrieve_output = biencoder.retrieve(biencoder_test_dataset,\n",
    "                                     embed_evid_data=embed_evid_data,\n",
    "                                     k=5,\n",
    "                                     batch_size =128,\n",
    "                                     predict_output_path=\"./data/output/retrieve-outcome.json\")"
   ]
  },
  {
   "attachments": {},
   "cell_type": "markdown",
   "metadata": {},
   "source": [
    "## Classifier"
   ]
  },
  {
   "attachments": {},
   "cell_type": "markdown",
   "metadata": {
    "jp-MarkdownHeadingCollapsed": true,
    "tags": []
   },
   "source": [
    "### Load Data"
   ]
  },
  {
   "cell_type": "code",
   "execution_count": null,
   "metadata": {
    "tags": []
   },
   "outputs": [],
   "source": [
    "classifier_train_dataset = BertClassifierDataset(claim_file_path=\"./data/train-claims.json\",\n",
    "                                                 data_type=\"train\",\n",
    "                                                 evidence_file_path=\"./data/evidence.json\",\n",
    "                                                 tokenizer=bert_tokenizer,\n",
    "                                                 lower_case=False,\n",
    "                                                 max_padding_length=512,\n",
    "                                                 rand_seed=1)\n",
    "\n",
    "classifier_test_dataset = BertClassifierDataset(claim_file_path=\"./data/test-claims-unlabelled.json\",\n",
    "                                                data_type=\"predict\",\n",
    "                                                evidence_file_path=\"./data/evidence.json\",\n",
    "                                                predict_evidence_file_path=\"./data/output/retrieval-claim-prediction.json\",\n",
    "                                                tokenizer=bert_tokenizer,\n",
    "                                                lower_case=False,\n",
    "                                                max_padding_length=512,\n",
    "                                                rand_seed=1)"
   ]
  },
  {
   "attachments": {},
   "cell_type": "markdown",
   "metadata": {
    "jp-MarkdownHeadingCollapsed": true,
    "tags": []
   },
   "source": [
    "### Create Classifier"
   ]
  },
  {
   "cell_type": "code",
   "execution_count": null,
   "metadata": {
    "tags": []
   },
   "outputs": [],
   "source": [
    "bert_classifier = BertClassifier()"
   ]
  },
  {
   "attachments": {},
   "cell_type": "markdown",
   "metadata": {
    "jp-MarkdownHeadingCollapsed": true,
    "tags": []
   },
   "source": [
    "### Train Classifier"
   ]
  },
  {
   "cell_type": "code",
   "execution_count": null,
   "metadata": {
    "tags": []
   },
   "outputs": [],
   "source": [
    "bert_classifier_trainer = BertClassifierTrainer(bert_classifier,\n",
    "                                                batch_size=4)"
   ]
  },
  {
   "cell_type": "code",
   "execution_count": null,
   "metadata": {
    "tags": []
   },
   "outputs": [],
   "source": [
    "ber_classifier_history = bert_classifier_trainer.train(train_dataset=classifier_train_dataset,\n",
    "                                                       shuffle=True, \n",
    "                                                       max_epoch=10,\n",
    "                                                       loss_func_type=\"cross_entropy\",\n",
    "                                                       optimizer_type=\"adam\",\n",
    "                                                       learning_rate=0.0001)"
   ]
  },
  {
   "attachments": {},
   "cell_type": "markdown",
   "metadata": {
    "jp-MarkdownHeadingCollapsed": true,
    "tags": []
   },
   "source": [
    "### Predict"
   ]
  },
  {
   "cell_type": "code",
   "execution_count": null,
   "metadata": {
    "tags": []
   },
   "outputs": [],
   "source": [
    "classification_output= bert_classifier.predict(classifier_test_dataset,\n",
    "                                               batch_size=32,\n",
    "                                               output_file_path=\"./data/output/class-prediction.json\")"
   ]
  },
  {
   "cell_type": "code",
   "execution_count": null,
   "metadata": {},
   "outputs": [],
   "source": []
  }
 ],
 "metadata": {
  "kernelspec": {
   "display_name": "Python 3 (ipykernel)",
   "language": "python",
   "name": "python3"
  },
  "language_info": {
   "codemirror_mode": {
    "name": "ipython",
    "version": 3
   },
   "file_extension": ".py",
   "mimetype": "text/x-python",
   "name": "python",
   "nbconvert_exporter": "python",
   "pygments_lexer": "ipython3",
   "version": "3.8.16"
  }
 },
 "nbformat": 4,
 "nbformat_minor": 4
}
