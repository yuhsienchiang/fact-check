{
 "cells": [
  {
   "attachments": {},
   "cell_type": "markdown",
   "metadata": {},
   "source": [
    "## Import Libraries"
   ]
  },
  {
   "cell_type": "code",
   "execution_count": 1,
   "metadata": {},
   "outputs": [
    {
     "name": "stderr",
     "output_type": "stream",
     "text": [
      "/Users/yuhsienchiang/.pyenv/versions/3.8.16/envs/nlp_env/lib/python3.8/site-packages/tqdm/auto.py:21: TqdmWarning: IProgress not found. Please update jupyter and ipywidgets. See https://ipywidgets.readthedocs.io/en/stable/user_install.html\n",
      "  from .autonotebook import tqdm as notebook_tqdm\n"
     ]
    }
   ],
   "source": [
    "import importlib\n",
    "import torch\n",
    "from transformers import BertTokenizer\n",
    "\n",
    "import model.biencoder_dataset\n",
    "import model.biencoder\n",
    "import model.bert_encoder\n",
    "import model.biencoder_trainer\n",
    "\n",
    "importlib.reload(model.biencoder_dataset)\n",
    "importlib.reload(model.biencoder)\n",
    "importlib.reload(model.bert_encoder)\n",
    "importlib.reload(model.biencoder_trainer)\n",
    "\n",
    "from model.biencoder_dataset import BiEncoderDataset\n",
    "from model.biencoder import BiEncoder\n",
    "from model.bert_encoder import BertEncoder\n",
    "from model.biencoder_trainer import BiEncoderTrainer"
   ]
  },
  {
   "attachments": {},
   "cell_type": "markdown",
   "metadata": {},
   "source": [
    "## Check Resource"
   ]
  },
  {
   "cell_type": "code",
   "execution_count": 2,
   "metadata": {},
   "outputs": [
    {
     "data": {
      "text/plain": [
       "False"
      ]
     },
     "execution_count": 2,
     "metadata": {},
     "output_type": "execute_result"
    }
   ],
   "source": [
    "torch.cuda.is_available()"
   ]
  },
  {
   "attachments": {},
   "cell_type": "markdown",
   "metadata": {},
   "source": [
    "## Load Training Data"
   ]
  },
  {
   "cell_type": "code",
   "execution_count": 2,
   "metadata": {},
   "outputs": [],
   "source": [
    "bert_tokenizer = BertTokenizer.from_pretrained(\"bert-base-uncased\")\n",
    "\n",
    "train_dataset = BiEncoderDataset(claim_file_path=\"./data/train-claims.json\",\n",
    "                                 evidence_file_path=\"./data/evidence.json\",\n",
    "                                 tokenizer=bert_tokenizer,\n",
    "                                 max_padding_length=200,\n",
    "                                 neg_evidence_num=2,\n",
    "                                 rand_seed=1)"
   ]
  },
  {
   "attachments": {},
   "cell_type": "markdown",
   "metadata": {},
   "source": [
    "## Create Model"
   ]
  },
  {
   "cell_type": "code",
   "execution_count": 3,
   "metadata": {},
   "outputs": [
    {
     "name": "stderr",
     "output_type": "stream",
     "text": [
      "Some weights of the model checkpoint at bert-base-uncased were not used when initializing BertEncoder: ['cls.predictions.transform.LayerNorm.bias', 'cls.predictions.bias', 'cls.seq_relationship.bias', 'cls.predictions.transform.dense.bias', 'cls.predictions.transform.dense.weight', 'cls.predictions.transform.LayerNorm.weight', 'cls.predictions.decoder.weight', 'cls.seq_relationship.weight']\n",
      "- This IS expected if you are initializing BertEncoder from the checkpoint of a model trained on another task or with another architecture (e.g. initializing a BertForSequenceClassification model from a BertForPreTraining model).\n",
      "- This IS NOT expected if you are initializing BertEncoder from the checkpoint of a model that you expect to be exactly identical (initializing a BertForSequenceClassification model from a BertForSequenceClassification model).\n"
     ]
    }
   ],
   "source": [
    "query_encoder = BertEncoder(add_pooling_layer=True)\n",
    "\n",
    "biencoder = BiEncoder(query_model=query_encoder)"
   ]
  },
  {
   "attachments": {},
   "cell_type": "markdown",
   "metadata": {},
   "source": [
    "## Train Model"
   ]
  },
  {
   "cell_type": "code",
   "execution_count": 4,
   "metadata": {},
   "outputs": [],
   "source": [
    "biencoder_trainer = BiEncoderTrainer(model=biencoder,\n",
    "                                     batch_size=8)\n",
    "\n",
    "biencoder_history = biencoder_trainer.train(train_data=train_dataset,\n",
    "                                            max_epoch=2,\n",
    "                                            loss_func_type=\"nll_loss\",\n",
    "                                            similarity_func_type=\"dot\",\n",
    "                                            optimizer_type=\"adam\",\n",
    "                                            learning_rate=0.001)"
   ]
  }
 ],
 "metadata": {
  "kernelspec": {
   "display_name": "nlp_env",
   "language": "python",
   "name": "python3"
  },
  "language_info": {
   "codemirror_mode": {
    "name": "ipython",
    "version": 3
   },
   "file_extension": ".py",
   "mimetype": "text/x-python",
   "name": "python",
   "nbconvert_exporter": "python",
   "pygments_lexer": "ipython3",
   "version": "3.8.16"
  },
  "orig_nbformat": 4
 },
 "nbformat": 4,
 "nbformat_minor": 2
}
